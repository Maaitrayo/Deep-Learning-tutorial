{
 "cells": [
  {
   "cell_type": "markdown",
   "metadata": {},
   "source": [
    "<h2 style='color:blue' align='center'>Implementation of stochastic and batch grandient descent in python</h2>"
   ]
  },
  {
   "cell_type": "markdown",
   "metadata": {},
   "source": [
    "#### We will use very simple home prices data set to implement batch and stochastic gradient descent in python. Batch gradient descent uses *all* training samples in forward pass to calculate cumulitive error and than we adjust weights using derivaties. In stochastic GD, we randomly pick *one* training sample, perform forward pass, compute the error and immidiately adjust weights. So the key difference here is that to adjust weights batch GD will use *all* training samples where as stochastic GD will use one randomly picked training sample"
   ]
  },
  {
   "cell_type": "code",
   "execution_count": 1,
   "metadata": {},
   "outputs": [],
   "source": [
    "import pandas as pd\n",
    "import numpy as np\n",
    "from matplotlib import pyplot as plt\n",
    "%matplotlib inline"
   ]
  },
  {
   "cell_type": "markdown",
   "metadata": {},
   "source": [
    "##### Load the dataset in pandas dataframe"
   ]
  },
  {
   "cell_type": "code",
   "execution_count": 2,
   "metadata": {},
   "outputs": [
    {
     "data": {
      "text/html": [
       "<div>\n",
       "<style scoped>\n",
       "    .dataframe tbody tr th:only-of-type {\n",
       "        vertical-align: middle;\n",
       "    }\n",
       "\n",
       "    .dataframe tbody tr th {\n",
       "        vertical-align: top;\n",
       "    }\n",
       "\n",
       "    .dataframe thead th {\n",
       "        text-align: right;\n",
       "    }\n",
       "</style>\n",
       "<table border=\"1\" class=\"dataframe\">\n",
       "  <thead>\n",
       "    <tr style=\"text-align: right;\">\n",
       "      <th></th>\n",
       "      <th>area</th>\n",
       "      <th>bedrooms</th>\n",
       "      <th>price</th>\n",
       "    </tr>\n",
       "  </thead>\n",
       "  <tbody>\n",
       "    <tr>\n",
       "      <th>2</th>\n",
       "      <td>1440</td>\n",
       "      <td>3</td>\n",
       "      <td>62.0</td>\n",
       "    </tr>\n",
       "    <tr>\n",
       "      <th>5</th>\n",
       "      <td>1170</td>\n",
       "      <td>2</td>\n",
       "      <td>38.0</td>\n",
       "    </tr>\n",
       "    <tr>\n",
       "      <th>10</th>\n",
       "      <td>1800</td>\n",
       "      <td>3</td>\n",
       "      <td>82.0</td>\n",
       "    </tr>\n",
       "    <tr>\n",
       "      <th>6</th>\n",
       "      <td>2732</td>\n",
       "      <td>4</td>\n",
       "      <td>135.0</td>\n",
       "    </tr>\n",
       "    <tr>\n",
       "      <th>9</th>\n",
       "      <td>3700</td>\n",
       "      <td>5</td>\n",
       "      <td>167.0</td>\n",
       "    </tr>\n",
       "  </tbody>\n",
       "</table>\n",
       "</div>"
      ],
      "text/plain": [
       "    area  bedrooms  price\n",
       "2   1440         3   62.0\n",
       "5   1170         2   38.0\n",
       "10  1800         3   82.0\n",
       "6   2732         4  135.0\n",
       "9   3700         5  167.0"
      ]
     },
     "execution_count": 2,
     "metadata": {},
     "output_type": "execute_result"
    }
   ],
   "source": [
    "df = pd.read_csv(\"dataset/homeprices_banglore.csv\")\n",
    "df.sample(5)"
   ]
  },
  {
   "cell_type": "markdown",
   "metadata": {},
   "source": [
    "##### Preprocessing/Scaling: Since our columns are on different sacle it is important to perform scaling on them"
   ]
  },
  {
   "cell_type": "code",
   "execution_count": 6,
   "metadata": {},
   "outputs": [
    {
     "data": {
      "text/plain": [
       "array([[0.08827586, 0.25      ],\n",
       "       [0.62068966, 0.75      ],\n",
       "       [0.22068966, 0.5       ],\n",
       "       [0.24862069, 0.5       ],\n",
       "       [0.13793103, 0.25      ],\n",
       "       [0.12758621, 0.25      ],\n",
       "       [0.6662069 , 0.75      ],\n",
       "       [0.86206897, 0.75      ],\n",
       "       [0.17586207, 0.5       ],\n",
       "       [1.        , 1.        ],\n",
       "       [0.34482759, 0.5       ],\n",
       "       [0.68448276, 0.75      ],\n",
       "       [0.06896552, 0.25      ],\n",
       "       [0.10344828, 0.25      ],\n",
       "       [0.5       , 0.5       ],\n",
       "       [0.12931034, 0.25      ],\n",
       "       [0.13103448, 0.5       ],\n",
       "       [0.25517241, 0.5       ],\n",
       "       [0.67931034, 0.5       ],\n",
       "       [0.        , 0.        ]])"
      ]
     },
     "execution_count": 6,
     "metadata": {},
     "output_type": "execute_result"
    }
   ],
   "source": [
    "from sklearn import preprocessing\n",
    "sx = preprocessing.MinMaxScaler()\n",
    "sy = preprocessing.MinMaxScaler()\n",
    "\n",
    "scaled_X = sx.fit_transform(df.drop('price',axis='columns'))\n",
    "scaled_y = sy.fit_transform(df['price'].values.reshape(df.shape[0],1))\n",
    "\n",
    "scaled_X"
   ]
  },
  {
   "cell_type": "code",
   "execution_count": 7,
   "metadata": {},
   "outputs": [
    {
     "data": {
      "text/plain": [
       "array([[0.05237037],\n",
       "       [0.65185185],\n",
       "       [0.22222222],\n",
       "       [0.31851852],\n",
       "       [0.14074074],\n",
       "       [0.04444444],\n",
       "       [0.76296296],\n",
       "       [0.91111111],\n",
       "       [0.13333333],\n",
       "       [1.        ],\n",
       "       [0.37037037],\n",
       "       [0.8       ],\n",
       "       [0.04444444],\n",
       "       [0.05925926],\n",
       "       [0.51111111],\n",
       "       [0.07407407],\n",
       "       [0.11851852],\n",
       "       [0.20740741],\n",
       "       [0.51851852],\n",
       "       [0.        ]])"
      ]
     },
     "execution_count": 7,
     "metadata": {},
     "output_type": "execute_result"
    }
   ],
   "source": [
    "scaled_y"
   ]
  },
  {
   "cell_type": "markdown",
   "metadata": {},
   "source": [
    "##### We should convert target column (i.e. price) into one dimensional array. It has become 2D due to scaling that we did above but now we should change to 1D"
   ]
  },
  {
   "cell_type": "code",
   "execution_count": 434,
   "metadata": {
    "scrolled": true
   },
   "outputs": [
    {
     "data": {
      "text/plain": [
       "array([0.05237037, 0.65185185, 0.22222222, 0.31851852, 0.14074074,\n",
       "       0.04444444, 0.76296296, 0.91111111, 0.13333333, 1.        ,\n",
       "       0.37037037, 0.8       , 0.04444444, 0.05925926, 0.51111111,\n",
       "       0.07407407, 0.11851852, 0.20740741, 0.51851852, 0.        ])"
      ]
     },
     "execution_count": 434,
     "metadata": {},
     "output_type": "execute_result"
    }
   ],
   "source": [
    "scaled_y.reshape(20,)"
   ]
  },
  {
   "cell_type": "markdown",
   "metadata": {},
   "source": [
    "##### Gradient descent allows you to find weights (w1,w2,w3) and bias in following linear equation for housing price prediction"
   ]
  },
  {
   "attachments": {},
   "cell_type": "markdown",
   "metadata": {},
   "source": [
    "<img src=\"dataset/hp.jpg\"/>"
   ]
  },
  {
   "cell_type": "markdown",
   "metadata": {},
   "source": [
    "##### Now is the time to implement mini batch gradient descent. "
   ]
  },
  {
   "cell_type": "code",
   "execution_count": 28,
   "metadata": {
    "scrolled": false
   },
   "outputs": [
    {
     "name": "stdout",
     "output_type": "stream",
     "text": [
      "0.9603223499361427\n",
      "0.9326888924476793\n",
      "0.9058225314128967\n",
      "0.8797020237667177\n",
      "0.8543067146242089\n",
      "0.8296165209951847\n",
      "0.8056119159497194\n",
      "0.7822739132220797\n",
      "0.7595840522409391\n",
      "0.7375243835740725\n",
      "0.7160774547760537\n",
      "0.6952262966277998\n",
      "0.6749544097571087\n",
      "0.6552457516296473\n",
      "0.6360847239001257\n",
      "0.6174561601136938\n",
      "0.5993453137478535\n",
      "0.5817378465854676\n",
      "0.5646198174096903\n",
      "0.5479776710119124\n",
      "0.5317982275040499\n",
      "0.5160686719267525\n",
      "0.5007765441453357\n",
      "0.48590972902547336\n",
      "0.4714564468809028\n",
      "0.4574052441856109\n",
      "0.44374498454317823\n",
      "0.43046483990616435\n",
      "0.417554282038605\n",
      "0.4050030742148958\n",
      "0.3928012631485145\n",
      "0.3809391711442194\n",
      "0.36940738846753374\n",
      "0.35819676592550376\n",
      "0.3472984076528785\n",
      "0.3367036640980232\n",
      "0.326404125203038\n",
      "0.3163916137727031\n",
      "0.3066581790270222\n",
      "0.29719609033228406\n",
      "0.2879978311056934\n",
      "0.2790560928887712\n",
      "0.27036376958484865\n",
      "0.2619139518561116\n",
      "0.25369992167577843\n",
      "0.24571514703111547\n",
      "0.23795327677311456\n",
      "0.23040813560877133\n",
      "0.22307371923201558\n",
      "0.21594418958945544\n",
      "0.209013870277203\n",
      "0.20227724206515002\n",
      "0.19572893854516818\n",
      "0.18936374189979938\n",
      "0.18317657878810253\n",
      "0.17716251634541091\n",
      "0.1713167582938483\n",
      "0.1656346411605355\n",
      "0.16011163060050648\n",
      "0.15474331782143438\n",
      "0.14952541610734946\n",
      "0.14445375743860664\n",
      "0.1395242892054391\n",
      "0.13473307101250584\n",
      "0.1300762715719148\n",
      "0.12555016568226987\n",
      "0.12115113129136311\n",
      "0.11687564664019251\n",
      "0.11272028748605695\n",
      "0.10868172440253626\n",
      "0.10475672015422997\n",
      "0.1009421271441827\n",
      "0.0972348849319849\n",
      "0.0936320178205919\n",
      "0.09013063250995829\n",
      "0.08672791581563793\n",
      "0.08342113245055144\n",
      "0.08020762286817018\n",
      "0.07708480116541923\n",
      "0.07405015304364307\n",
      "0.07110123382602795\n",
      "0.06823566652991771\n",
      "0.06545113999250214\n",
      "0.06274540704840173\n",
      "0.06011628275770978\n",
      "0.05756164268309745\n",
      "0.055079421214621\n",
      "0.05266760994091111\n",
      "0.05032425606546176\n",
      "0.04804746086676668\n",
      "0.045835378201091875\n",
      "0.04368621304670439\n",
      "0.04159822008840564\n",
      "0.03956970234125772\n",
      "0.03759900981241502\n",
      "0.03568453820000622\n",
      "0.0338247276280429\n",
      "0.03201806141635312\n",
      "0.030263064884575926\n",
      "0.028558304189267705\n",
      "0.02690238519320855\n",
      "0.025293952366013568\n",
      "0.023731687715184677\n",
      "0.02221430974675891\n",
      "0.02074057245473404\n",
      "0.019309264338474644\n",
      "0.017919207447324236\n",
      "0.01656925645166988\n",
      "0.015258297739726763\n",
      "0.013985248539330553\n",
      "0.012749056064046867\n",
      "0.011548696682920613\n",
      "0.010383175113215138\n",
      "0.009251523635502119\n",
      "0.008152801330483057\n",
      "0.007086093336942706\n",
      "0.006050510130247111\n",
      "0.005045186820818854\n",
      "0.004069282472036246\n",
      "0.003121979437018091\n",
      "0.0022024827137705704\n",
      "0.0013100193181906916\n",
      "0.0004438376744279216\n",
      "-0.0003967929778738777\n",
      "-0.0012125831599216876\n",
      "-0.002004223714162712\n",
      "-0.002772386349155737\n",
      "-0.003517724169357267\n",
      "-0.004240872190238921\n",
      "-0.004942447839142478\n",
      "-0.005623051442267175\n",
      "-0.006283266698173568\n",
      "-0.006923661138176496\n",
      "-0.007544786573992024\n",
      "-0.008147179532988802\n",
      "-0.008731361681388832\n",
      "-0.009297840235750749\n",
      "-0.009847108363059787\n",
      "-0.01037964556974082\n",
      "-0.010895918079899326\n",
      "-0.011396379203090745\n",
      "-0.011881469691906399\n",
      "-0.012351618089659422\n",
      "-0.012807241068442799\n",
      "-0.013248743757829168\n",
      "-0.01367652006446758\n",
      "-0.014090952982832555\n",
      "-0.014492414897369105\n",
      "-0.014881267876271803\n",
      "-0.015257863957129941\n",
      "-0.015622545424662716\n",
      "-0.01597564508076696\n",
      "-0.01631748650708504\n",
      "-0.01664838432030481\n",
      "-0.016968644420389808\n",
      "-0.017278564231937226\n",
      "-0.01757843293885249\n",
      "-0.017868531712526704\n",
      "-0.018149133933696028\n",
      "-0.018420505408158927\n",
      "-0.01868290457651947\n",
      "-0.018936582718124612\n",
      "-0.01918178414935372\n",
      "-0.019418746416419077\n",
      "-0.019647700482826776\n",
      "-0.019868870911648462\n",
      "-0.020082476042745823\n",
      "-0.020288728165088\n",
      "-0.020487833684298032\n",
      "-0.020679993285560617\n",
      "-0.020865402092018412\n",
      "-0.021044249818784\n",
      "-0.0212167209226862\n",
      "-0.021382994747871212\n",
      "-0.021543245667371938\n",
      "-0.021697643220757845\n",
      "-0.02184635224797282\n",
      "-0.021989533019468772\n",
      "-0.02212734136273441\n",
      "-0.022259928785322205\n",
      "-0.02238744259446751\n",
      "-0.022510026013397633\n",
      "-0.02262781829441837\n",
      "-0.022740954828870837\n",
      "-0.022849567254043787\n",
      "-0.02295378355712463\n",
      "-0.023053728176273935\n",
      "-0.023149522098899394\n",
      "-0.023241282957211014\n",
      "-0.023329125121128502\n",
      "-0.023413159788617674\n",
      "-0.023493495073525123\n",
      "-0.023570236090980714\n",
      "-0.023643485040435654\n",
      "-0.023713341286401565\n",
      "-0.02377990143695386\n",
      "-0.023843259420061654\n",
      "-0.02390350655780383\n",
      "-0.023960731638530977\n",
      "-0.024015020987028343\n",
      "-0.02406645853273753\n",
      "-0.02411512587608719\n",
      "-0.024161102352989274\n",
      "-0.024204465097548374\n",
      "-0.024245289103034435\n",
      "-0.02428364728116855\n",
      "-0.02431961051976572\n",
      "-0.024353247738783182\n",
      "-0.024384625944815247\n",
      "-0.024413810284080385\n",
      "-0.02444086409394132\n",
      "-0.02446584895299718\n",
      "-0.024488824729790488\n",
      "-0.024509849630164574\n",
      "-0.02452898024330985\n",
      "-0.024546271586535325\n",
      "-0.024561777148800243\n",
      "-0.024575548933040606\n",
      "-0.02458763749732384\n",
      "-0.02459809199486352\n",
      "-0.024606960212926812\n",
      "-0.02461428861066374\n",
      "-0.024620122355890187\n",
      "-0.024624505360851468\n",
      "-0.024627480316995843\n",
      "-0.024629088728785876\n",
      "-0.024629370946572884\n",
      "-0.024628366198561003\n",
      "-0.02462611262188747\n",
      "-0.02462264729284045\n",
      "-0.024618006256242237\n",
      "-0.02461222455401691\n",
      "-0.024605336252968648\n",
      "-0.024597374471789973\n",
      "-0.02458837140732196\n",
      "-0.024578358360088648\n",
      "-0.024567365759123046\n",
      "-0.024555423186106148\n",
      "-0.024542559398838\n",
      "-0.0245288023540585\n",
      "-0.02451417922963659\n",
      "-0.024498716446144455\n",
      "-0.024482439687835134\n",
      "-0.024465373923038977\n",
      "-0.0244475434239951\n",
      "-0.024428971786133964\n",
      "-0.024409681946826425\n",
      "-0.024389696203612872\n",
      "-0.02436903623192793\n",
      "-0.024347723102334896\n",
      "-0.024325777297282337\n",
      "-0.024303218727396644\n",
      "-0.02428006674732422\n",
      "-0.02425634017113426\n",
      "-0.024232057287295213\n",
      "-0.024207235873237278\n",
      "-0.024181893209510277\n",
      "-0.0241560460935507\n",
      "-0.02412971085306728\n",
      "-0.024102903359055756\n",
      "-0.024075639038452952\n",
      "-0.024047932886441588\n",
      "-0.024019799478412842\n",
      "-0.02399125298159903\n",
      "-0.023962307166383513\n",
      "-0.02393297541729733\n",
      "-0.023903270743711902\n",
      "-0.023873205790235264\n",
      "-0.02384279284682003\n",
      "-0.02381204385859321\n",
      "-0.0237809704354107\n",
      "-0.0237495838611509\n",
      "-0.02371789510274786\n",
      "-0.023685914818976663\n",
      "-0.023653653368993523\n",
      "-0.023621120820641307\n",
      "-0.023588326958523545\n",
      "-0.023555281291855745\n",
      "-0.02352199306209915\n",
      "-0.0234884712503826\n",
      "-0.02345472458471966\n",
      "-0.023420761547025677\n",
      "-0.023386590379940134\n",
      "-0.02335221909346018\n",
      "-0.02331765547139116\n",
      "-0.023282907077617754\n",
      "-0.023247981262201768\n",
      "-0.023212885167310765\n",
      "-0.02317762573298331\n",
      "-0.02314220970273381\n",
      "-0.023106643629002534\n",
      "-0.02307093387845395\n",
      "-0.02303508663713007\n",
      "-0.022999107915459366\n",
      "-0.022963003553127394\n",
      "-0.022926779223813493\n",
      "-0.022890440439794952\n",
      "-0.022853992556424865\n",
      "-0.022817440776485\n",
      "-0.02278079015441871\n",
      "-0.022744045600446846\n",
      "-0.02270721188456877\n",
      "-0.0226702936404536\n",
      "-0.022633295369223285\n",
      "-0.022596221443130476\n",
      "-0.02255907610913545\n",
      "-0.0225218634923831\n",
      "-0.022484587599584188\n",
      "-0.022447252322302786\n",
      "-0.02240986144015273\n",
      "-0.022372418623905578\n",
      "-0.022334927438512366\n",
      "-0.022297391346041653\n",
      "-0.02225981370853643\n",
      "-0.022222197790792004\n",
      "-0.02218454676305613\n",
      "-0.022146863703655758\n",
      "-0.022109151601549505\n",
      "-0.022071413358810688\n",
      "-0.02203365179304112\n",
      "-0.021995869639717443\n",
      "-0.021958069554473963\n",
      "-0.021920254115320344\n",
      "-0.02188242582479978\n",
      "-0.021844587112086263\n",
      "-0.021806740335023573\n",
      "-0.0217688877821089\n",
      "-0.021731031674420417\n",
      "-0.02169317416749201\n",
      "-0.02165531735313643\n",
      "-0.02161746326121693\n",
      "-0.021579613861370663\n",
      "-0.02154177106468403\n",
      "-0.021503936725322283\n",
      "-0.021466112642112165\n",
      "-0.021428300560083487\n",
      "-0.021390502171965267\n",
      "-0.02135271911964224\n",
      "-0.021314952995570277\n",
      "-0.0212772053441527\n",
      "-0.021239477663078973\n",
      "-0.02120177140462495\n",
      "-0.021164087976919006\n",
      "-0.021126428745171323\n",
      "-0.02108879503287079\n",
      "-0.021051188122947057\n",
      "-0.021013609258901552\n",
      "-0.02097605964590654\n",
      "-0.020938540451874817\n",
      "-0.02090105280849816\n",
      "-0.020863597812258074\n",
      "-0.020826176525408704\n",
      "-0.020788789976931565\n",
      "-0.02075143916346453\n",
      "-0.020714125050204882\n",
      "-0.020676848571787754\n",
      "-0.020639610633139568\n",
      "-0.020602412110307847\n",
      "-0.020565253851268984\n",
      "-0.020528136676712244\n",
      "-0.020491061380803338\n",
      "-0.02045402873192615\n",
      "-0.020417039473403634\n",
      "-0.020380094324199478\n",
      "-0.02034319397960003\n",
      "-0.020306339111877347\n",
      "-0.02026953037093329\n",
      "-0.020232768384926592\n",
      "-0.020196053760882505\n",
      "-0.02015938708528498\n",
      "-0.02012276892465269\n",
      "-0.020086199826099528\n",
      "-0.020049680317878557\n",
      "-0.020013210909912038\n",
      "-0.01997679209430624\n",
      "-0.019940424345851738\n",
      "-0.019904108122510124\n",
      "-0.01986784386588729\n",
      "-0.019831632001693307\n",
      "-0.019795472940190323\n",
      "-0.019759367076626868\n",
      "-0.019723314791660986\n",
      "-0.01968731645177109\n",
      "-0.019651372409656195\n",
      "-0.019615483004624058\n",
      "-0.019579648562969683\n",
      "-0.019543869398342253\n",
      "-0.01950814581210208\n",
      "-0.019472478093668963\n",
      "-0.019436866520858936\n",
      "-0.019401311360212982\n",
      "-0.019365812867315875\n",
      "-0.019330371287107004\n",
      "-0.019294986854182433\n",
      "-0.019259659793087244\n",
      "-0.019224390318601466\n",
      "-0.019189178636017646\n",
      "-0.019154024941409956\n",
      "-0.01911892942189643\n",
      "-0.019083892255894498\n",
      "-0.01904891361336806\n",
      "-0.01901399365606873\n",
      "-0.018979132537770102\n",
      "-0.01894433040449539\n",
      "-0.018909587394739354\n",
      "-0.01887490363968307\n",
      "-0.018840279263403478\n",
      "-0.01880571438307653\n",
      "-0.018771209109175725\n",
      "-0.018736763545664392\n",
      "-0.018702377790181725\n",
      "-0.018668051934226087\n",
      "-0.018633786063330916\n",
      "-0.018599580257236577\n",
      "-0.01856543459005827\n",
      "-0.018531349130447156\n",
      "-0.018497323941749945\n",
      "-0.018463359082161037\n",
      "-0.018429454604872688\n",
      "-0.01839561055821994\n",
      "-0.018361826985821724\n",
      "-0.01832810392671824\n",
      "-0.018294441415503817\n",
      "-0.01826083948245742\n",
      "-0.018227298153668192\n",
      "-0.018193817451158213\n",
      "-0.018160397393001484\n",
      "-0.018127037993439905\n",
      "-0.018093739262996424\n",
      "-0.018060501208583515\n",
      "-0.01802732383361067\n",
      "-0.017994207138087037\n",
      "-0.017961151118722946\n",
      "-0.01792815576902689\n",
      "-0.017895221079401138\n",
      "-0.017862347037234133\n",
      "-0.017829533626990135\n",
      "-0.01779678083029697\n",
      "-0.01776408862603072\n",
      "-0.017731456990398447\n",
      "-0.017698885897018363\n",
      "-0.0176663753169982\n",
      "-0.017633925219010516\n",
      "-0.017601535569367065\n",
      "-0.01756920633209005\n",
      "-0.017536937468982078\n",
      "-0.01750472893969397\n",
      "-0.01747258070179066\n",
      "-0.01744049271081502\n",
      "-0.017408464920350194\n",
      "-0.017376497282080374\n",
      "-0.01734458974584932\n",
      "-0.01731274225971772\n",
      "-0.017280954770018682\n",
      "-0.01724922722141194\n",
      "-0.01721755955693632\n",
      "-0.017185951718060793\n",
      "-0.017154403644733973\n",
      "-0.017122915275432776\n",
      "-0.017091486547209135\n",
      "-0.01706011739573506\n",
      "-0.017028807755348242\n",
      "-0.01699755755909369\n",
      "-0.01696636673876651\n",
      "-0.016935235224952556\n",
      "-0.016904162947067654\n",
      "-0.01687314983339614\n",
      "-0.01684219581112854\n",
      "-0.016811300806397828\n",
      "-0.01678046474431438\n",
      "-0.016749687549000764\n",
      "-0.016718969143624692\n",
      "-0.01668830945043176\n",
      "-0.01665770839077706\n",
      "-0.01662716588515551\n",
      "-0.016596681853231817\n",
      "-0.016566256213869358\n",
      "-0.016535888885158164\n",
      "-0.01650557978444255\n",
      "-0.016475328828347575\n",
      "-0.01644513593280486\n",
      "-0.01641500101307758\n",
      "-0.016384923983785018\n",
      "-0.016354904758926214\n",
      "-0.016324943251902802\n",
      "-0.01629503937554187\n",
      "-0.016265193042117244\n",
      "-0.016235404163370683\n",
      "-0.016205672650532816\n",
      "-0.016175998414342512\n",
      "-0.01614638136506707\n",
      "-0.01611682141252016\n",
      "-0.016087318466080587\n",
      "-0.016057872434710487\n",
      "-0.016028483226971892\n",
      "-0.01599915075104405\n",
      "-0.015969874914739248\n",
      "-0.015940655625519558\n",
      "-0.015911492790511014\n",
      "-0.015882386316519875\n"
     ]
    },
    {
     "data": {
      "text/plain": [
       "(array([0.70712464, 0.67456527]), -0.23034857438407422, 0.0068641890429808105)"
      ]
     },
     "execution_count": 28,
     "metadata": {},
     "output_type": "execute_result"
    }
   ],
   "source": [
    "def batch_gradient_descent(X, y_true, epochs, learning_rate = 0.01):\n",
    "\n",
    "    number_of_features = X.shape[1]\n",
    "    # numpy array with 1 row and columns equal to number of features. In \n",
    "    # our case number_of_features = 2 (area, bedroom)\n",
    "    w = np.ones(shape=(number_of_features)) \n",
    "    b = 0\n",
    "    total_samples = X.shape[0] # number of rows in X\n",
    "    \n",
    "    cost_list = []\n",
    "    epoch_list = []\n",
    "    \n",
    "    for i in range(epochs):        \n",
    "        y_predicted = np.dot(w, X.T) + b\n",
    "\n",
    "        w_grad = -(2/total_samples)*(X.T.dot(y_true-y_predicted))\n",
    "        b_grad = -(2/total_samples)*np.sum(y_true-y_predicted)\n",
    "        \n",
    "        w = w - learning_rate * w_grad\n",
    "        b = b - learning_rate * b_grad\n",
    "        print(b_grad)\n",
    "        cost = np.mean(np.square(y_true-y_predicted)) # MSE (Mean Squared Error)\n",
    "        \n",
    "        if i%10==0:\n",
    "            cost_list.append(cost)\n",
    "            epoch_list.append(i)\n",
    "        \n",
    "    return w, b, cost, cost_list, epoch_list\n",
    "\n",
    "w, b, cost, cost_list, epoch_list = batch_gradient_descent(scaled_X,scaled_y.reshape(scaled_y.shape[0],),500)\n",
    "w, b, cost"
   ]
  },
  {
   "cell_type": "markdown",
   "metadata": {},
   "source": [
    "###### Check price equation above. In that equation we were trying to find values of w1,w2 and bias. Here we got these values for each of them,\n",
    "w1 = 0.66469087\n",
    "w2 = 0.60541671\n",
    "bias = -0.17792104056392882"
   ]
  },
  {
   "cell_type": "markdown",
   "metadata": {},
   "source": [
    "###### Now plot epoch vs cost graph to see how cost reduces as number of epoch increases"
   ]
  },
  {
   "cell_type": "code",
   "execution_count": 9,
   "metadata": {
    "scrolled": true
   },
   "outputs": [
    {
     "data": {
      "text/plain": [
       "[<matplotlib.lines.Line2D at 0x1fce2109e50>]"
      ]
     },
     "execution_count": 9,
     "metadata": {},
     "output_type": "execute_result"
    },
    {
     "data": {
      "image/png": "[encoded data removed]",
      "text/plain": [
       "<Figure size 432x288 with 1 Axes>"
      ]
     },
     "metadata": {
      "needs_background": "light"
     },
     "output_type": "display_data"
    }
   ],
   "source": [
    "plt.xlabel(\"epoch\")\n",
    "plt.ylabel(\"cost\")\n",
    "plt.plot(epoch_list,cost_list)"
   ]
  },
  {
   "cell_type": "markdown",
   "metadata": {},
   "source": [
    "###### Lets do some predictions now. "
   ]
  },
  {
   "cell_type": "code",
   "execution_count": 10,
   "metadata": {},
   "outputs": [
    {
     "data": {
      "text/plain": [
       "128.45484403267596"
      ]
     },
     "execution_count": 10,
     "metadata": {},
     "output_type": "execute_result"
    }
   ],
   "source": [
    "def predict(area,bedrooms,w,b):\n",
    "    scaled_X = sx.transform([[area, bedrooms]])[0]\n",
    "    # here w1 = w[0] , w2 = w[1], w3 = w[2] and bias is b\n",
    "    # equation for price is w1*area + w2*bedrooms + w3*age + bias\n",
    "    # scaled_X[0] is area\n",
    "    # scaled_X[1] is bedrooms\n",
    "    # scaled_X[2] is age\n",
    "    scaled_price = w[0] * scaled_X[0] + w[1] * scaled_X[1] + b\n",
    "    # once we get price prediction we need to to rescal it back to original value\n",
    "    # also since it returns 2D array, to get single value we need to do value[0][0]\n",
    "    return sy.inverse_transform([[scaled_price]])[0][0]\n",
    "\n",
    "predict(2600,4,w,b)"
   ]
  },
  {
   "cell_type": "code",
   "execution_count": 11,
   "metadata": {},
   "outputs": [
    {
     "data": {
      "text/plain": [
       "30.253094462442363"
      ]
     },
     "execution_count": 11,
     "metadata": {},
     "output_type": "execute_result"
    }
   ],
   "source": [
    "predict(1000,2,w,b)"
   ]
  },
  {
   "cell_type": "code",
   "execution_count": 12,
   "metadata": {
    "scrolled": true
   },
   "outputs": [
    {
     "data": {
      "text/plain": [
       "69.47860785714694"
      ]
     },
     "execution_count": 12,
     "metadata": {},
     "output_type": "execute_result"
    }
   ],
   "source": [
    "predict(1500,3,w,b)"
   ]
  },
  {
   "cell_type": "markdown",
   "metadata": {},
   "source": [
    "<h3 style='color:purple'>(2) Stochastic Gradient Descent Implementation</h3>"
   ]
  },
  {
   "cell_type": "markdown",
   "metadata": {},
   "source": [
    "#### Stochastic GD will use randomly picked single training sample to calculate error and using this error we backpropage to adjust weights"
   ]
  },
  {
   "cell_type": "code",
   "execution_count": 26,
   "metadata": {},
   "outputs": [
    {
     "data": {
      "text/plain": [
       "1"
      ]
     },
     "execution_count": 26,
     "metadata": {},
     "output_type": "execute_result"
    }
   ],
   "source": [
    "# we will use random libary to pick random training sample.\n",
    "import random\n",
    "random.randint(0,6) # randit gives random number between two numbers specified in the argument"
   ]
  },
  {
   "cell_type": "code",
   "execution_count": 18,
   "metadata": {},
   "outputs": [
    {
     "data": {
      "text/plain": [
       "(array([0.70775782, 0.67494498]), -0.2268920179252871, 0.004474688802742925)"
      ]
     },
     "execution_count": 18,
     "metadata": {},
     "output_type": "execute_result"
    }
   ],
   "source": [
    "def stochastic_gradient_descent(X, y_true, epochs, learning_rate = 0.01):\n",
    " \n",
    "    number_of_features = X.shape[1]\n",
    "    # numpy array with 1 row and columns equal to number of features. In \n",
    "    # our case number_of_features = 3 (area, bedroom and age)\n",
    "    w = np.ones(shape=(number_of_features)) \n",
    "    b = 0\n",
    "    total_samples = X.shape[0]\n",
    "    \n",
    "    cost_list = []\n",
    "    epoch_list = []\n",
    "    \n",
    "    for i in range(epochs):    \n",
    "        random_index = random.randint(0,total_samples-1) # random index from total samples\n",
    "        sample_x = X[random_index]\n",
    "        sample_y = y_true[random_index]\n",
    "        \n",
    "        y_predicted = np.dot(w, sample_x.T) + b\n",
    "    \n",
    "        w_grad = -(2/total_samples)*(sample_x.T.dot(sample_y-y_predicted))\n",
    "        b_grad = -(2/total_samples)*(sample_y-y_predicted)\n",
    "        \n",
    "        w = w - learning_rate * w_grad\n",
    "        b = b - learning_rate * b_grad\n",
    "        \n",
    "        cost = np.square(sample_y-y_predicted)\n",
    "        \n",
    "        if i%100==0: # at every 100th iteration record the cost and epoch value\n",
    "            cost_list.append(cost)\n",
    "            epoch_list.append(i)\n",
    "        \n",
    "    return w, b, cost, cost_list, epoch_list\n",
    "\n",
    "w_sgd, b_sgd, cost_sgd, cost_list_sgd, epoch_list_sgd = stochastic_gradient_descent(scaled_X,scaled_y.reshape(scaled_y.shape[0],),10000)\n",
    "w_sgd, b_sgd, cost_sgd"
   ]
  },
  {
   "cell_type": "markdown",
   "metadata": {},
   "source": [
    "Compare this with weights and bias that we got using gradient descent. They both of quite similar."
   ]
  },
  {
   "cell_type": "code",
   "execution_count": 19,
   "metadata": {},
   "outputs": [
    {
     "data": {
      "text/plain": [
       "(array([0.70712464, 0.67456527]), -0.23034857438407422)"
      ]
     },
     "execution_count": 19,
     "metadata": {},
     "output_type": "execute_result"
    }
   ],
   "source": [
    "w , b "
   ]
  },
  {
   "cell_type": "code",
   "execution_count": 20,
   "metadata": {},
   "outputs": [
    {
     "data": {
      "text/plain": [
       "[<matplotlib.lines.Line2D at 0x1fce2293130>]"
      ]
     },
     "execution_count": 20,
     "metadata": {},
     "output_type": "execute_result"
    },
    {
     "data": {
      "image/png": "[encoded data removed]",
      "text/plain": [
       "<Figure size 432x288 with 1 Axes>"
      ]
     },
     "metadata": {
      "needs_background": "light"
     },
     "output_type": "display_data"
    }
   ],
   "source": [
    "plt.xlabel(\"epoch\")\n",
    "plt.ylabel(\"cost\")\n",
    "plt.plot(epoch_list_sgd,cost_list_sgd)"
   ]
  },
  {
   "cell_type": "code",
   "execution_count": 21,
   "metadata": {},
   "outputs": [
    {
     "data": {
      "text/plain": [
       "129.0129811483696"
      ]
     },
     "execution_count": 21,
     "metadata": {},
     "output_type": "execute_result"
    }
   ],
   "source": [
    "predict(2600,4,w_sgd, b_sgd) "
   ]
  },
  {
   "cell_type": "code",
   "execution_count": 22,
   "metadata": {},
   "outputs": [
    {
     "data": {
      "text/plain": [
       "30.738440046869265"
      ]
     },
     "execution_count": 22,
     "metadata": {},
     "output_type": "execute_result"
    }
   ],
   "source": [
    "predict(1000,2,w_sgd, b_sgd)"
   ]
  },
  {
   "cell_type": "code",
   "execution_count": 23,
   "metadata": {},
   "outputs": [
    {
     "data": {
      "text/plain": [
       "69.99150655563585"
      ]
     },
     "execution_count": 23,
     "metadata": {},
     "output_type": "execute_result"
    }
   ],
   "source": [
    "predict(1500,3,w_sgd, b_sgd)"
   ]
  },
  {
   "cell_type": "markdown",
   "metadata": {},
   "source": [
    "<h3 style='color:purple'>Exercise</h3>"
   ]
  },
  {
   "cell_type": "markdown",
   "metadata": {},
   "source": [
    "#### Implement mini batch gradient descent in python and plot cost vs epoch graph. Mini batch is intermediate version of batch GD and stochastic GD. In stochastic we used one randomly picked training sample, In mini gradient descent you will use a batch of samples in each iterations. For example if you have total 50 training samples, you can take a batch of 10 samples, calculate cumulitive error for those 10 samples and then adjust weights. In SGD we adjust weights after every one sample. In Batch we adjust weights after going through all samples but in mini batch we do after every m samples (where m is batch size and it is 0 < m < n, where n is total number of samples\n",
    "\n"
   ]
  },
  {
   "cell_type": "markdown",
   "metadata": {},
   "source": [
    "[Solution](https://github.com/codebasics/deep-learning-keras-tf-tutorial/blob/main/8_sgd_vs_gd/mini_batch_gd.ipynb)"
   ]
  }
 ],
 "metadata": {
  "kernelspec": {
   "display_name": "Python 3",
   "language": "python",
   "name": "python3"
  },
  "language_info": {
   "codemirror_mode": {
    "name": "ipython",
    "version": 3
   },
   "file_extension": ".py",
   "mimetype": "text/x-python",
   "name": "python",
   "nbconvert_exporter": "python",
   "pygments_lexer": "ipython3",
   "version": "3.9.4"
  }
 },
 "nbformat": 4,
 "nbformat_minor": 4
}
